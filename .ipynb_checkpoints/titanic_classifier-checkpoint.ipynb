{
 "cells": [
  {
   "cell_type": "code",
   "execution_count": 145,
   "metadata": {
    "collapsed": true
   },
   "outputs": [],
   "source": [
    "from __future__ import division\n",
    "\n",
    "import pandas as pd\n",
    "import numpy as np\n",
    "\n",
    "from feed_forward import FeedForward"
   ]
  },
  {
   "cell_type": "code",
   "execution_count": 147,
   "metadata": {
    "collapsed": true
   },
   "outputs": [],
   "source": [
    "path = \"C:\\\\work\\\\ml\\\\titanic_train.csv\""
   ]
  },
  {
   "cell_type": "code",
   "execution_count": 152,
   "metadata": {
    "collapsed": false
   },
   "outputs": [],
   "source": [
    "df = pd.read_csv(path).dropna()\n",
    "\n",
    "age_bins = [0, 10, 35, 60, 81]\n",
    "age_groups = [\"kids\", \"young1\", \"young2\", \"old\"]\n",
    "df[\"age_group\"] = pd.cut(df[\"Age\"], age_bins, labels=age_groups)\n",
    "\n",
    "X = df[[\"Pclass\", \"Sex\", \"age_group\"]]\n",
    "\n",
    "data = pd.get_dummies(X, [\"sex\", \"age_group\"])\n",
    "labels = df[\"Survived\"]\n"
   ]
  },
  {
   "cell_type": "code",
   "execution_count": 154,
   "metadata": {
    "collapsed": false
   },
   "outputs": [
    {
     "data": {
      "text/plain": [
       "((183, 7), (183L,))"
      ]
     },
     "execution_count": 154,
     "metadata": {},
     "output_type": "execute_result"
    }
   ],
   "source": [
    "data.shape, labels.shape"
   ]
  },
  {
   "cell_type": "code",
   "execution_count": 155,
   "metadata": {
    "collapsed": false
   },
   "outputs": [],
   "source": [
    "train_data = data.sample(frac=0.5, random_state=89)\n",
    "test_data = data.drop(train_data.index)\n",
    "\n",
    "train_labels = labels.sample(frac=0.5, random_state=89)\n",
    "test_labels = labels.drop(train_labels.index)\n",
    "\n",
    "train_labels_binarized = pd.get_dummies(train_labels)"
   ]
  },
  {
   "cell_type": "code",
   "execution_count": 156,
   "metadata": {
    "collapsed": true
   },
   "outputs": [],
   "source": [
    "epoch = 5000\n",
    "learning_rate = 0.1\n",
    "no_of_hidden_layers = 2\n",
    "hidden_neurons_per_layer = [10, 10,]"
   ]
  },
  {
   "cell_type": "code",
   "execution_count": 157,
   "metadata": {
    "collapsed": false
   },
   "outputs": [],
   "source": [
    "model = FeedForward(no_of_hidden_layers, hidden_neurons_per_layer)\n",
    "\n",
    "model.fit(np.array(train_data), np.array(train_labels_binarized), epoch, learning_rate)"
   ]
  },
  {
   "cell_type": "code",
   "execution_count": 158,
   "metadata": {
    "collapsed": true
   },
   "outputs": [],
   "source": [
    "prediction = model.predict(np.array(test_data)).T.argmax(1).T"
   ]
  },
  {
   "cell_type": "code",
   "execution_count": 159,
   "metadata": {
    "collapsed": false
   },
   "outputs": [
    {
     "name": "stdout",
     "output_type": "stream",
     "text": [
      "0.747252747253\n"
     ]
    }
   ],
   "source": [
    "accuracy = (prediction == np.array(test_labels)).sum() / prediction.shape[0]\n",
    "\n",
    "print(accuracy)"
   ]
  }
 ],
 "metadata": {
  "kernelspec": {
   "display_name": "Python 2",
   "language": "python",
   "name": "python2"
  },
  "language_info": {
   "codemirror_mode": {
    "name": "ipython",
    "version": 2
   },
   "file_extension": ".py",
   "mimetype": "text/x-python",
   "name": "python",
   "nbconvert_exporter": "python",
   "pygments_lexer": "ipython2",
   "version": "2.7.11"
  }
 },
 "nbformat": 4,
 "nbformat_minor": 0
}
