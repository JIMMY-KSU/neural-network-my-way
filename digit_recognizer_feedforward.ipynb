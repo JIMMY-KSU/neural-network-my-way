{
 "cells": [
  {
   "cell_type": "code",
   "execution_count": 2,
   "metadata": {
    "collapsed": false
   },
   "outputs": [],
   "source": [
    "from __future__ import division\n",
    "\n",
    "import pandas as pd\n",
    "import numpy as np\n",
    "\n",
    "from feed_forward import FeedForward"
   ]
  },
  {
   "cell_type": "code",
   "execution_count": 4,
   "metadata": {
    "collapsed": false
   },
   "outputs": [],
   "source": [
    "path = \"C:\\work\\ml\\digit_train.csv\"\n",
    "\n",
    "df = pd.read_csv(path)\n",
    "\n",
    "labels = df[\"label\"]\n",
    "data = df.iloc[:, 1:]"
   ]
  },
  {
   "cell_type": "code",
   "execution_count": 92,
   "metadata": {
    "collapsed": false
   },
   "outputs": [
    {
     "data": {
      "text/plain": [
       "((1797L, 64L), (1797, 10))"
      ]
     },
     "execution_count": 92,
     "metadata": {},
     "output_type": "execute_result"
    }
   ],
   "source": [
    "from sklearn import datasets\n",
    "df = datasets.load_digits()\n",
    "\n",
    "train_data = np.array(df[\"data\"])\n",
    "labels = np.array(df[\"target\"])\n",
    "train_labels_binarized = pd.get_dummies(labels)\n",
    "\n",
    "data.shape, train_labels_binarized.shape"
   ]
  },
  {
   "cell_type": "code",
   "execution_count": 59,
   "metadata": {
    "collapsed": false
   },
   "outputs": [],
   "source": [
    "train_data = data.sample(frac=0.01, random_state=80)\n",
    "test_data = data.drop(train_data.index)\n",
    "\n",
    "train_labels = labels.sample(frac=0.01, random_state=80)\n",
    "test_labels = labels.drop(train_labels.index)\n",
    "\n",
    "train_labels_binarized = pd.get_dummies(train_labels)"
   ]
  },
  {
   "cell_type": "code",
   "execution_count": 86,
   "metadata": {
    "collapsed": false
   },
   "outputs": [
    {
     "name": "stdout",
     "output_type": "stream",
     "text": [
      "(1797, 10)\n",
      "(420L,)\n"
     ]
    }
   ],
   "source": [
    "print(train_labels_binarized.shape)\n",
    "print(train_labels.shape)"
   ]
  },
  {
   "cell_type": "code",
   "execution_count": 93,
   "metadata": {
    "collapsed": false
   },
   "outputs": [
    {
     "name": "stdout",
     "output_type": "stream",
     "text": [
      "[1797   64]\n",
      "(1797L, 10L)\n"
     ]
    }
   ],
   "source": [
    "epoch = 50\n",
    "learning_rate = 0.5\n",
    "no_of_hidden_layers = 1\n",
    "hidden_neurons_per_layer = [100, ]\n",
    "print(np.array(train_data.shape))\n",
    "print(np.array(train_labels_binarized).shape)"
   ]
  },
  {
   "cell_type": "code",
   "execution_count": 94,
   "metadata": {
    "collapsed": false
   },
   "outputs": [],
   "source": [
    "model = FeedForward(no_of_hidden_layers, hidden_neurons_per_layer)\n",
    "\n",
    "model.fit(np.array(train_data), np.array(train_labels_binarized), epoch, learning_rate)"
   ]
  },
  {
   "cell_type": "code",
   "execution_count": 95,
   "metadata": {
    "collapsed": false,
    "scrolled": true
   },
   "outputs": [
    {
     "data": {
      "text/plain": [
       "array([[ 1.,  1.,  1., ...,  1.,  1.,  1.],\n",
       "       [ 1.,  1.,  1., ...,  1.,  1.,  1.],\n",
       "       [ 1.,  1.,  1., ...,  1.,  1.,  1.],\n",
       "       ..., \n",
       "       [ 1.,  1.,  1., ...,  1.,  1.,  1.],\n",
       "       [ 1.,  1.,  1., ...,  1.,  1.,  1.],\n",
       "       [ 1.,  1.,  1., ...,  1.,  1.,  1.]])"
      ]
     },
     "execution_count": 95,
     "metadata": {},
     "output_type": "execute_result"
    }
   ],
   "source": [
    "model.output.shape\n",
    "model.output"
   ]
  },
  {
   "cell_type": "code",
   "execution_count": 82,
   "metadata": {
    "collapsed": true
   },
   "outputs": [],
   "source": [
    "prediction2 = model.predict(np.array(test_data)).T\n",
    "prediction = prediction2.argmax(1).T"
   ]
  },
  {
   "cell_type": "code",
   "execution_count": 85,
   "metadata": {
    "collapsed": false
   },
   "outputs": [
    {
     "name": "stdout",
     "output_type": "stream",
     "text": [
      "[[ 0.14285714  0.11904762  0.04761905 ...,  0.07142857  0.04761905\n",
      "   0.14285714]\n",
      " [ 0.14285714  0.11904762  0.04761905 ...,  0.07142857  0.04761905\n",
      "   0.14285714]\n",
      " [ 0.14285714  0.11904762  0.04761905 ...,  0.07142857  0.04761905\n",
      "   0.14285714]\n",
      " ..., \n",
      " [ 0.14285714  0.11904762  0.04761905 ...,  0.07142857  0.04761905\n",
      "   0.14285714]\n",
      " [ 0.14285714  0.11904762  0.04761905 ...,  0.07142857  0.04761905\n",
      "   0.14285714]\n",
      " [ 0.14285714  0.11904762  0.04761905 ...,  0.07142857  0.04761905\n",
      "   0.14285714]]\n",
      "(41958L, 10L)\n"
     ]
    }
   ],
   "source": [
    "print(prediction2)\n",
    "print(prediction2.shape)\n",
    "# for x,y in zip(prediction, np.array(test_labels)):\n",
    "#     print(x, y)"
   ]
  },
  {
   "cell_type": "code",
   "execution_count": 84,
   "metadata": {
    "collapsed": false
   },
   "outputs": [
    {
     "name": "stdout",
     "output_type": "stream",
     "text": [
      "[6 6 6 ..., 0 0 0]\n",
      "0.0984555984556\n"
     ]
    }
   ],
   "source": [
    "print(prediction)\n",
    "accuracy = (prediction == np.array(test_labels)).sum() / prediction.shape[0]\n",
    "\n",
    "print(accuracy)"
   ]
  },
  {
   "cell_type": "code",
   "execution_count": 14,
   "metadata": {
    "collapsed": true
   },
   "outputs": [],
   "source": [
    "#Sigmoid Function\n",
    "def sigmoid (x):\n",
    "    return 1/(1 + np.exp(-x))\n",
    "\n",
    "#Derivative of Sigmoid Function\n",
    "def derivatives_sigmoid(x):\n",
    "    return x * (1 - x)\n",
    "\n",
    "X = train_data\n",
    "y = train_labels_binarized"
   ]
  }
 ],
 "metadata": {
  "kernelspec": {
   "display_name": "Python 2",
   "language": "python",
   "name": "python2"
  },
  "language_info": {
   "codemirror_mode": {
    "name": "ipython",
    "version": 2
   },
   "file_extension": ".py",
   "mimetype": "text/x-python",
   "name": "python",
   "nbconvert_exporter": "python",
   "pygments_lexer": "ipython2",
   "version": "2.7.11"
  }
 },
 "nbformat": 4,
 "nbformat_minor": 0
}
